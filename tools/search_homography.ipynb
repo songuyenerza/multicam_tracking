{
 "cells": [
  {
   "cell_type": "code",
   "execution_count": 27,
   "metadata": {},
   "outputs": [],
   "source": [
    "import cv2\n",
    "import numpy as np\n",
    "import os\n",
    "from tqdm import tqdm"
   ]
  },
  {
   "cell_type": "markdown",
   "metadata": {},
   "source": [
    "# Get frame\n"
   ]
  },
  {
   "cell_type": "code",
   "execution_count": 18,
   "metadata": {},
   "outputs": [
    {
     "name": "stdout",
     "output_type": "stream",
     "text": [
      "Frame extraction completed.\n"
     ]
    }
   ],
   "source": [
    "\n",
    "# Path to the folder containing videos\n",
    "video_path = \"/home/sonlt373/Desktop/SoNg/Multi_cam_tracking/data/DaiTu/x9.mp4\"\n",
    "\n",
    "# Output folder to save frames\n",
    "output_folder = \"/home/sonlt373/Desktop/SoNg/Multi_cam_tracking/dev/multicam_tracking/data_wheel_daitu/stream_7\"\n",
    "\n",
    "# Create output folder if it doesn't exist\n",
    "if not os.path.exists(output_folder):\n",
    "    os.makedirs(output_folder)\n",
    "\n",
    "    \n",
    "# Check if the path is a file (to skip any subdirectories)\n",
    "if os.path.isfile(video_path):\n",
    "    # Open the video file\n",
    "    cap = cv2.VideoCapture(video_path)\n",
    "    \n",
    "    # Get the base name of the video file without extension\n",
    "    video_name = os.path.splitext(os.path.basename(video_path))[0]\n",
    "    \n",
    "    frame_count = 0\n",
    "    \n",
    "    while cap.isOpened():\n",
    "        ret, frame = cap.read()\n",
    "        \n",
    "        if not ret:\n",
    "            break\n",
    "        \n",
    "        # Save the frame as an image file\n",
    "        frame_filename = os.path.join(output_folder, f\"{video_name}_frame_{frame_count}.jpg\")\n",
    "        # if frame_count % 300 == 0:\n",
    "        cv2.imwrite(frame_filename, frame)\n",
    "        \n",
    "        frame_count += 1\n",
    "        break\n",
    "    \n",
    "    # Release the video capture object\n",
    "    cap.release()\n",
    "\n",
    "print(\"Frame extraction completed.\")"
   ]
  },
  {
   "cell_type": "markdown",
   "metadata": {},
   "source": [
    "# Select point"
   ]
  },
  {
   "cell_type": "code",
   "execution_count": 49,
   "metadata": {},
   "outputs": [
    {
     "name": "stdout",
     "output_type": "stream",
     "text": [
      "folder_save:  /home/sonlt373/Desktop/SoNg/Multi_cam_tracking/dev/multicam_tracking/data_wheel_daitu/stream_1/\n",
      "image:  (1080, 1920, 3)\n",
      "Clicked at (957, 345)\n",
      "Clicked at (914, 276)\n",
      "Clicked at (91, 313)\n",
      "Clicked at (56, 391)\n",
      "0.997;0.639;0.952;0.511;0.095;0.58;0.058;0.724\n",
      "x3_frame_0\n"
     ]
    }
   ],
   "source": [
    "img_path = '/home/sonlt373/Desktop/SoNg/Multi_cam_tracking/dev/multicam_tracking/data_wheel_daitu/stream_1/x3_frame_0.jpg'\n",
    "folder_save = img_path[:-14]\n",
    "print(\"folder_save: \", folder_save)\n",
    "image = cv2.imread(img_path)\n",
    "# image, _, _, _, _ = apply_distortion(img = image)\n",
    "print(\"image: \", image.shape)\n",
    "W = image.shape[1]\n",
    "H = image.shape[0]\n",
    "\n",
    "image = cv2.resize(image, (W//2, H//2))\n",
    "name = img_path.split('/')[-1].split('.')[0]\n",
    "list_point = []\n",
    "\n",
    "def mouse_callback(event, x, y, flags, param):\n",
    "    if event == cv2.EVENT_LBUTTONDOWN:\n",
    "        print(f\"Clicked at ({x}, {y})\")\n",
    "        cv2.circle(image, (int(x), int(y)), 3, (0, 0, 255), -1)\n",
    "        cv2.imshow('Image', image)\n",
    "        list_point.append(str(round(x/image.shape[1], 3)))\n",
    "        list_point.append(str(round(y/image.shape[0], 3)))\n",
    "\n",
    "cv2.namedWindow('Image')\n",
    "cv2.setMouseCallback('Image', mouse_callback)\n",
    "\n",
    "cv2.imshow('Image', image)\n",
    "while True:\n",
    "    key = cv2.waitKey(1) & 0xFF\n",
    "    if key == ord('q'):\n",
    "        full_roi = str(';'.join(list_point))\n",
    "        print(full_roi)\n",
    "        print(name)\n",
    "        f = open(os.path.join(folder_save, name + '.txt'), 'w')\n",
    "        f.write(full_roi)\n",
    "        f.close()\n",
    "        break\n",
    "\n",
    "cv2.destroyAllWindows()"
   ]
  },
  {
   "cell_type": "markdown",
   "metadata": {},
   "source": [
    "# Warp image to one image view"
   ]
  },
  {
   "cell_type": "code",
   "execution_count": 38,
   "metadata": {},
   "outputs": [],
   "source": [
    "def read_points(point_path, width, height):\n",
    "    # Read the normalized points from the file\n",
    "    with open(point_path, 'r') as file:\n",
    "        points_str = file.read().strip().split(';')\n",
    "        points = [float(p) for p in points_str]\n",
    "\n",
    "    # Denormalize the points\n",
    "    denormalized_points = [\n",
    "        [points[0] * width, points[1] * height],\n",
    "        [points[2] * width, points[3] * height],\n",
    "        [points[4] * width, points[5] * height],\n",
    "        [points[6] * width, points[7] * height]\n",
    "    ]\n",
    "    return np.array(denormalized_points, dtype=np.float32)\n",
    "\n",
    "def calculate_output_size(points):\n",
    "    height = max(\n",
    "        np.linalg.norm(points[0] - points[1]),\n",
    "        np.linalg.norm(points[3] - points[2])\n",
    "    )\n",
    "    width = max(\n",
    "        np.linalg.norm(points[0] - points[3]),\n",
    "        np.linalg.norm(points[1] - points[2])\n",
    "    )\n",
    "\n",
    "    width = int(width / (height / 300))\n",
    "    height = 300\n",
    "    return width, height"
   ]
  },
  {
   "cell_type": "code",
   "execution_count": 109,
   "metadata": {},
   "outputs": [
    {
     "name": "stdout",
     "output_type": "stream",
     "text": [
      "[Over view]  19619  X  300\n"
     ]
    }
   ],
   "source": [
    "# Lấy kích thước của ảnh overview \n",
    "# Chiều từ trái sang phải\n",
    "\n",
    "W1  = 2682\n",
    "W2 = 2727\n",
    "W3 = 2722\n",
    "W4 = 2172\n",
    "W5 = 2952\n",
    "W6 = 3197\n",
    "W7 = 3167\n",
    "\n",
    "W = W1 + W2 + W3 + W4 + W5 + W6 + W7\n",
    "H = 300\n",
    "H_padding = 300\n",
    "print(\"[Over view] \", W , \" X \", H)"
   ]
  },
  {
   "cell_type": "markdown",
   "metadata": {},
   "source": [
    "- Stream 1 ( Từ phải sang)"
   ]
  },
  {
   "cell_type": "code",
   "execution_count": 111,
   "metadata": {},
   "outputs": [
    {
     "name": "stdout",
     "output_type": "stream",
     "text": [
      "width:  3167  height:  300\n",
      "denormalized_points:  [[1914.24  690.12]\n",
      " [1827.84  551.88]\n",
      " [ 182.4   626.4 ]\n",
      " [ 111.36  781.92]]\n",
      "Homography Matrix:  [[ 2.83290527e+00  1.87265654e+01  1.50189488e+04]\n",
      " [ 1.58430428e-01  3.90509266e+00 -1.97785616e+03]\n",
      " [-1.37177229e-05  1.05333283e-03  1.00000000e+00]]\n"
     ]
    },
    {
     "data": {
      "text/plain": [
       "True"
      ]
     },
     "execution_count": 111,
     "metadata": {},
     "output_type": "execute_result"
    }
   ],
   "source": [
    "img_path = \"/home/sonlt373/Desktop/SoNg/Multi_cam_tracking/dev/multicam_tracking/data_wheel_daitu/stream_1/x3_frame_0.jpg\"\n",
    "folder_frame = img_path[:-14]\n",
    "name = img_path.split('/')[-1].split('.')[0]\n",
    "\n",
    "point_path = os.path.join(folder_frame, f\"{name}.txt\")\n",
    "\n",
    "# Read the image\n",
    "image = cv2.imread(img_path)\n",
    "height, width = image.shape[:2]\n",
    "\n",
    "# Read and denormalize the points\n",
    "denormalized_points = read_points(point_path, width, height)\n",
    "\n",
    "# Calculate the output size\n",
    "out_width, out_height = calculate_output_size(denormalized_points)\n",
    "\n",
    "print(\"width: \", out_width, \" height: \", out_height)\n",
    "\n",
    "# Define the destination points for the warp\n",
    "# dst_points = np.array([\n",
    "#     [out_width, out_height],  # Bottom right\n",
    "#     [out_width, 0],           # Top right\n",
    "#     [0, 0],                       # Top left\n",
    "#     [0, out_height]               # Bottom left\n",
    "# ], dtype=np.float32)\n",
    "\n",
    "dst_points = np.array([\n",
    "    [W, out_height + H_padding],  # Bottom right\n",
    "    [W, 0 + H_padding],           # Top right\n",
    "    [W1 + W2 + W3 + W4 + W5 + W6, 0 + H_padding],                       # Top left\n",
    "    [W1 + W2 + W3 + W4 + W5 + W6, out_height + H_padding]               # Bottom left\n",
    "], dtype=np.float32)\n",
    "\n",
    "print(\"denormalized_points: \", denormalized_points)\n",
    "\n",
    "# Calculate the homography matrix\n",
    "Homo, _ = cv2.findHomography(denormalized_points, dst_points)\n",
    "print(\"Homography Matrix: \", Homo)\n",
    "\n",
    "# Save the homography matrix\n",
    "matrix_array = np.array(Homo)\n",
    "np.savetxt(os.path.join(folder_frame, 'matrix_homo.txt'), matrix_array)\n",
    "\n",
    "# Warp the image\n",
    "# warped_image = cv2.warpPerspective(image, Homo, (int(out_width), int(out_height)))\n",
    "warped_image_1 = cv2.warpPerspective(image, Homo, (int(W), int(H  + 2 * H_padding)))\n",
    "\n",
    "\n",
    "\n",
    "# Save and show the warped image\n",
    "output_path = os.path.join(folder_frame, \"warped_frame.jpg\")\n",
    "cv2.imwrite(output_path, warped_image_1)\n"
   ]
  },
  {
   "cell_type": "markdown",
   "metadata": {},
   "source": [
    "- Stream 2 ( Từ phải sang)"
   ]
  },
  {
   "cell_type": "code",
   "execution_count": 114,
   "metadata": {},
   "outputs": [
    {
     "name": "stdout",
     "output_type": "stream",
     "text": [
      "width:  3197  height:  300\n",
      "denormalized_points:  [[1918.08  828.36]\n",
      " [1841.28  680.4 ]\n",
      " [ 213.12  587.52]\n",
      " [ 134.4   735.48]]\n",
      "Homography Matrix:  [[ 1.38750612e+00  1.44056993e+01  1.17849145e+04]\n",
      " [-2.23006047e-01  3.64261496e+00 -1.62760465e+03]\n",
      " [-1.06293414e-04  9.74568151e-04  1.00000000e+00]]\n"
     ]
    },
    {
     "data": {
      "text/plain": [
       "True"
      ]
     },
     "execution_count": 114,
     "metadata": {},
     "output_type": "execute_result"
    }
   ],
   "source": [
    "img_path = \"/home/sonlt373/Desktop/SoNg/Multi_cam_tracking/dev/multicam_tracking/data_wheel_daitu/stream_2/x4_frame_0.jpg\"\n",
    "folder_frame = img_path[:-14]\n",
    "name = img_path.split('/')[-1].split('.')[0]\n",
    "\n",
    "point_path = os.path.join(folder_frame, f\"{name}.txt\")\n",
    "\n",
    "# Read the image\n",
    "image = cv2.imread(img_path)\n",
    "height, width = image.shape[:2]\n",
    "\n",
    "# Read and denormalize the points\n",
    "denormalized_points = read_points(point_path, width, height)\n",
    "\n",
    "# Calculate the output size\n",
    "out_width, out_height = calculate_output_size(denormalized_points)\n",
    "\n",
    "print(\"width: \", out_width, \" height: \", out_height)\n",
    "\n",
    "# Define the destination points for the warp\n",
    "# dst_points = np.array([\n",
    "#     [out_width, out_height],  # Bottom right\n",
    "#     [out_width, 0],           # Top right\n",
    "#     [0, 0],                       # Top left\n",
    "#     [0, out_height]               # Bottom left\n",
    "# ], dtype=np.float32)\n",
    "\n",
    "dst_points = np.array([\n",
    "    [W - W7, out_height + H_padding],  # Bottom right\n",
    "    [W - W7, 0 + H_padding],           # Top right\n",
    "    [W1 + W2 + W3 + W4 + W5, 0 + H_padding],                       # Top left\n",
    "    [W1 + W2 + W3 + W4 + W5, out_height + H_padding]               # Bottom left\n",
    "], dtype=np.float32)\n",
    "\n",
    "print(\"denormalized_points: \", denormalized_points)\n",
    "\n",
    "# Calculate the homography matrix\n",
    "Homo, _ = cv2.findHomography(denormalized_points, dst_points)\n",
    "print(\"Homography Matrix: \", Homo)\n",
    "\n",
    "# Save the homography matrix\n",
    "matrix_array = np.array(Homo)\n",
    "np.savetxt(os.path.join(folder_frame, 'matrix_homo.txt'), matrix_array)\n",
    "\n",
    "# Warp the image\n",
    "# warped_image = cv2.warpPerspective(image, Homo, (int(out_width), int(out_height)))\n",
    "warped_image_2 = cv2.warpPerspective(image, Homo, (int(W), int(H + H_padding * 2)))\n",
    "\n",
    "# Save and show the warped image\n",
    "output_path = os.path.join(folder_frame, \"warped_frame.jpg\")\n",
    "cv2.imwrite(output_path, warped_image_2)\n"
   ]
  },
  {
   "cell_type": "markdown",
   "metadata": {},
   "source": [
    "- Stream 3 ( Từ phải sang)"
   ]
  },
  {
   "cell_type": "code",
   "execution_count": 113,
   "metadata": {},
   "outputs": [
    {
     "name": "stdout",
     "output_type": "stream",
     "text": [
      "width:  2952  height:  300\n",
      "denormalized_points:  [[1912.32  762.48]\n",
      " [1825.92  600.48]\n",
      " [ 178.56  516.24]\n",
      " [ 107.52  671.76]]\n",
      "Homography Matrix:  [[ 1.95692773e+00  1.00401860e+01  9.26992674e+03]\n",
      " [-1.67406571e-01  3.22761387e+00 -1.20531596e+03]\n",
      " [-5.20402136e-05  8.63958416e-04  1.00000000e+00]]\n"
     ]
    },
    {
     "data": {
      "text/plain": [
       "True"
      ]
     },
     "execution_count": 113,
     "metadata": {},
     "output_type": "execute_result"
    }
   ],
   "source": [
    "img_path = \"/home/sonlt373/Desktop/SoNg/Multi_cam_tracking/dev/multicam_tracking/data_wheel_daitu/stream_3/x5_frame_0.jpg\"\n",
    "folder_frame = img_path[:-14]\n",
    "name = img_path.split('/')[-1].split('.')[0]\n",
    "\n",
    "point_path = os.path.join(folder_frame, f\"{name}.txt\")\n",
    "\n",
    "# Read the image\n",
    "image = cv2.imread(img_path)\n",
    "height, width = image.shape[:2]\n",
    "\n",
    "# Read and denormalize the points\n",
    "denormalized_points = read_points(point_path, width, height)\n",
    "\n",
    "# Calculate the output size\n",
    "out_width, out_height = calculate_output_size(denormalized_points)\n",
    "\n",
    "print(\"width: \", out_width, \" height: \", out_height)\n",
    "\n",
    "# Define the destination points for the warp\n",
    "# dst_points = np.array([\n",
    "#     [out_width, out_height],  # Bottom right\n",
    "#     [out_width, 0],           # Top right\n",
    "#     [0, 0],                       # Top left\n",
    "#     [0, out_height]               # Bottom left\n",
    "# ], dtype=np.float32)\n",
    "\n",
    "dst_points = np.array([\n",
    "    [W - W7 - W6, out_height + H_padding],  # Bottom right\n",
    "    [W - W7 - W6, 0 + H_padding],           # Top right\n",
    "    [W1 + W2 + W3 + W4, 0 + H_padding],                       # Top left\n",
    "    [W1 + W2 + W3 + W4, out_height + H_padding]               # Bottom left\n",
    "], dtype=np.float32)\n",
    "\n",
    "print(\"denormalized_points: \", denormalized_points)\n",
    "\n",
    "# Calculate the homography matrix\n",
    "Homo, _ = cv2.findHomography(denormalized_points, dst_points)\n",
    "print(\"Homography Matrix: \", Homo)\n",
    "\n",
    "# Save the homography matrix\n",
    "matrix_array = np.array(Homo)\n",
    "np.savetxt(os.path.join(folder_frame, 'matrix_homo.txt'), matrix_array)\n",
    "\n",
    "# Warp the image\n",
    "# warped_image = cv2.warpPerspective(image, Homo, (int(out_width), int(out_height)))\n",
    "warped_image_3 = cv2.warpPerspective(image, Homo, (int(W), int(H + H_padding*2)))\n",
    "\n",
    "# Save and show the warped image\n",
    "output_path = os.path.join(folder_frame, \"warped_frame.jpg\")\n",
    "cv2.imwrite(output_path, warped_image_3)\n"
   ]
  },
  {
   "cell_type": "markdown",
   "metadata": {},
   "source": [
    "- Stream 4 ( Từ phải sang)"
   ]
  },
  {
   "cell_type": "code",
   "execution_count": 115,
   "metadata": {},
   "outputs": [
    {
     "name": "stdout",
     "output_type": "stream",
     "text": [
      "width:  2172  height:  300\n",
      "denormalized_points:  [[1914.24  699.84]\n",
      " [1806.72  540.  ]\n",
      " [ 506.88  530.28]\n",
      " [ 422.4   718.2 ]]\n",
      "Homography Matrix:  [[ 8.43360597e-01  1.16982651e+01  6.41381646e+03]\n",
      " [-7.60958762e-02  3.36220961e+00 -1.26304773e+03]\n",
      " [-1.79652157e-04  1.31133246e-03  1.00000000e+00]]\n"
     ]
    },
    {
     "data": {
      "text/plain": [
       "True"
      ]
     },
     "execution_count": 115,
     "metadata": {},
     "output_type": "execute_result"
    }
   ],
   "source": [
    "img_path = \"/home/sonlt373/Desktop/SoNg/Multi_cam_tracking/dev/multicam_tracking/data_wheel_daitu/stream_4/x6_frame_0.jpg\"\n",
    "folder_frame = img_path[:-14]\n",
    "name = img_path.split('/')[-1].split('.')[0]\n",
    "\n",
    "point_path = os.path.join(folder_frame, f\"{name}.txt\")\n",
    "\n",
    "# Read the image\n",
    "image = cv2.imread(img_path)\n",
    "height, width = image.shape[:2]\n",
    "\n",
    "# Read and denormalize the points\n",
    "denormalized_points = read_points(point_path, width, height)\n",
    "\n",
    "# Calculate the output size\n",
    "out_width, out_height = calculate_output_size(denormalized_points)\n",
    "\n",
    "print(\"width: \", out_width, \" height: \", out_height)\n",
    "\n",
    "# Define the destination points for the warp\n",
    "# dst_points = np.array([\n",
    "#     [out_width, out_height],  # Bottom right\n",
    "#     [out_width, 0],           # Top right\n",
    "#     [0, 0],                       # Top left\n",
    "#     [0, out_height]               # Bottom left\n",
    "# ], dtype=np.float32)\n",
    "\n",
    "dst_points = np.array([\n",
    "    [W - W7 - W6 - W5, out_height + H_padding],  # Bottom right\n",
    "    [W - W7 - W6 - W5, 0 + H_padding],           # Top right\n",
    "    [W1 + W2 + W3 , 0 + H_padding],                       # Top left\n",
    "    [W1 + W2 + W3 , out_height + H_padding]               # Bottom left\n",
    "], dtype=np.float32)\n",
    "\n",
    "print(\"denormalized_points: \", denormalized_points)\n",
    "\n",
    "# Calculate the homography matrix\n",
    "Homo, _ = cv2.findHomography(denormalized_points, dst_points)\n",
    "print(\"Homography Matrix: \", Homo)\n",
    "\n",
    "# Save the homography matrix\n",
    "matrix_array = np.array(Homo)\n",
    "np.savetxt(os.path.join(folder_frame, 'matrix_homo.txt'), matrix_array)\n",
    "\n",
    "# Warp the image\n",
    "# warped_image = cv2.warpPerspective(image, Homo, (int(out_width), int(out_height)))\n",
    "warped_image_4 = cv2.warpPerspective(image, Homo, (int(W), int(H + H_padding*2)))\n",
    "\n",
    "# Save and show the warped image\n",
    "output_path = os.path.join(folder_frame, \"warped_frame.jpg\")\n",
    "cv2.imwrite(output_path, warped_image_4)\n",
    "\n"
   ]
  },
  {
   "cell_type": "markdown",
   "metadata": {},
   "source": [
    "- Stream 5 ( Từ phải sang)"
   ]
  },
  {
   "cell_type": "code",
   "execution_count": 116,
   "metadata": {},
   "outputs": [
    {
     "name": "stdout",
     "output_type": "stream",
     "text": [
      "width:  2722  height:  300\n",
      "denormalized_points:  [[1795.2   694.44]\n",
      " [1708.8   525.96]\n",
      " [ 172.8   532.44]\n",
      " [  76.8   687.96]]\n",
      "Homography Matrix:  [[ 3.80109711e+00  9.17206111e+00  3.75694332e+03]\n",
      " [ 4.37261560e-02  4.09985417e+00 -1.67482250e+03]\n",
      " [ 9.36674476e-05  1.31973569e-03  1.00000000e+00]]\n"
     ]
    },
    {
     "data": {
      "text/plain": [
       "True"
      ]
     },
     "execution_count": 116,
     "metadata": {},
     "output_type": "execute_result"
    }
   ],
   "source": [
    "img_path = \"/home/sonlt373/Desktop/SoNg/Multi_cam_tracking/dev/multicam_tracking/data_wheel_daitu/stream_5/x7_frame_0.jpg\"\n",
    "folder_frame = img_path[:-14]\n",
    "name = img_path.split('/')[-1].split('.')[0]\n",
    "\n",
    "point_path = os.path.join(folder_frame, f\"{name}.txt\")\n",
    "\n",
    "# Read the image\n",
    "image = cv2.imread(img_path)\n",
    "height, width = image.shape[:2]\n",
    "\n",
    "# Read and denormalize the points\n",
    "denormalized_points = read_points(point_path, width, height)\n",
    "\n",
    "# Calculate the output size\n",
    "out_width, out_height = calculate_output_size(denormalized_points)\n",
    "\n",
    "print(\"width: \", out_width, \" height: \", out_height)\n",
    "\n",
    "# Define the destination points for the warp\n",
    "# dst_points = np.array([\n",
    "#     [out_width, out_height],  # Bottom right\n",
    "#     [out_width, 0],           # Top right\n",
    "#     [0, 0],                       # Top left\n",
    "#     [0, out_height]               # Bottom left\n",
    "# ], dtype=np.float32)\n",
    "\n",
    "dst_points = np.array([\n",
    "    [W - W7 - W6 - W5 - W4, out_height + H_padding],  # Bottom right\n",
    "    [W - W7 - W6 - W5 - W4, 0 + H_padding],           # Top right\n",
    "    [W1 + W2  , 0 + H_padding],                       # Top left\n",
    "    [W1 + W2  , out_height + H_padding]               # Bottom left\n",
    "], dtype=np.float32)\n",
    "\n",
    "print(\"denormalized_points: \", denormalized_points)\n",
    "\n",
    "# Calculate the homography matrix\n",
    "Homo, _ = cv2.findHomography(denormalized_points, dst_points)\n",
    "print(\"Homography Matrix: \", Homo)\n",
    "\n",
    "# Save the homography matrix\n",
    "matrix_array = np.array(Homo)\n",
    "np.savetxt(os.path.join(folder_frame, 'matrix_homo.txt'), matrix_array)\n",
    "\n",
    "# Warp the image\n",
    "# warped_image = cv2.warpPerspective(image, Homo, (int(out_width), int(out_height)))\n",
    "warped_image_5 = cv2.warpPerspective(image, Homo, (int(W), int(H + H_padding *2)))\n",
    "\n",
    "# Save and show the warped image\n",
    "output_path = os.path.join(folder_frame, \"warped_frame.jpg\")\n",
    "cv2.imwrite(output_path, warped_image_5)\n"
   ]
  },
  {
   "cell_type": "markdown",
   "metadata": {},
   "source": [
    "- Stream 6 ( Từ phải sang)"
   ]
  },
  {
   "cell_type": "code",
   "execution_count": 117,
   "metadata": {},
   "outputs": [
    {
     "name": "stdout",
     "output_type": "stream",
     "text": [
      "width:  2727  height:  300\n",
      "denormalized_points:  [[1831.68  723.6 ]\n",
      " [1760.64  560.52]\n",
      " [ 245.76  509.76]\n",
      " [ 138.24  662.04]]\n",
      "Homography Matrix:  [[ 2.90898365e+00  5.39186652e+00  9.00922578e+02]\n",
      " [-1.20695791e-01  3.86737246e+00 -1.45358257e+03]\n",
      " [-1.17881523e-05  1.23624302e-03  1.00000000e+00]]\n"
     ]
    },
    {
     "data": {
      "text/plain": [
       "True"
      ]
     },
     "execution_count": 117,
     "metadata": {},
     "output_type": "execute_result"
    }
   ],
   "source": [
    "img_path = \"/home/sonlt373/Desktop/SoNg/Multi_cam_tracking/dev/multicam_tracking/data_wheel_daitu/stream_6/x8_frame_0.jpg\"\n",
    "folder_frame = img_path[:-14]\n",
    "name = img_path.split('/')[-1].split('.')[0]\n",
    "\n",
    "point_path = os.path.join(folder_frame, f\"{name}.txt\")\n",
    "\n",
    "# Read the image\n",
    "image = cv2.imread(img_path)\n",
    "height, width = image.shape[:2]\n",
    "\n",
    "# Read and denormalize the points\n",
    "denormalized_points = read_points(point_path, width, height)\n",
    "\n",
    "# Calculate the output size\n",
    "out_width, out_height = calculate_output_size(denormalized_points)\n",
    "\n",
    "print(\"width: \", out_width, \" height: \", out_height)\n",
    "\n",
    "# Define the destination points for the warp\n",
    "# dst_points = np.array([\n",
    "#     [out_width, out_height],  # Bottom right\n",
    "#     [out_width, 0],           # Top right\n",
    "#     [0, 0],                       # Top left\n",
    "#     [0, out_height]               # Bottom left\n",
    "# ], dtype=np.float32)\n",
    "\n",
    "dst_points = np.array([\n",
    "    [W - W7 - W6 - W5 - W4 - W3, out_height + H_padding],  # Bottom right\n",
    "    [W - W7 - W6 - W5 - W4 - W3, 0 + H_padding],           # Top right\n",
    "    [W1  , 0 + H_padding],                       # Top left\n",
    "    [W1   , out_height + H_padding]               # Bottom left\n",
    "], dtype=np.float32)\n",
    "\n",
    "print(\"denormalized_points: \", denormalized_points)\n",
    "\n",
    "# Calculate the homography matrix\n",
    "Homo, _ = cv2.findHomography(denormalized_points, dst_points)\n",
    "print(\"Homography Matrix: \", Homo)\n",
    "\n",
    "# Save the homography matrix\n",
    "matrix_array = np.array(Homo)\n",
    "np.savetxt(os.path.join(folder_frame, 'matrix_homo.txt'), matrix_array)\n",
    "\n",
    "# Warp the image\n",
    "# warped_image = cv2.warpPerspective(image, Homo, (int(out_width), int(out_height)))\n",
    "warped_image_6 = cv2.warpPerspective(image, Homo, (int(W), int(H + H_padding*2)))\n",
    "\n",
    "# Save and show the warped image\n",
    "output_path = os.path.join(folder_frame, \"warped_frame.jpg\")\n",
    "cv2.imwrite(output_path, warped_image_6)\n",
    "\n"
   ]
  },
  {
   "cell_type": "markdown",
   "metadata": {},
   "source": [
    "- Stream 7 ( Từ phải sang)"
   ]
  },
  {
   "cell_type": "code",
   "execution_count": 118,
   "metadata": {},
   "outputs": [
    {
     "name": "stdout",
     "output_type": "stream",
     "text": [
      "width:  2682  height:  300\n",
      "denormalized_points:  [[1762.56  732.24]\n",
      " [1676.16  561.6 ]\n",
      " [ 155.52  507.6 ]\n",
      " [  53.76  657.72]]\n",
      "Homography Matrix:  [[ 3.17510265e+00  2.15226846e+00 -1.58628346e+03]\n",
      " [-1.20289820e-01  4.14317832e+00 -1.57211779e+03]\n",
      " [ 4.04096525e-05  1.38144683e-03  1.00000000e+00]]\n"
     ]
    },
    {
     "data": {
      "text/plain": [
       "True"
      ]
     },
     "execution_count": 118,
     "metadata": {},
     "output_type": "execute_result"
    }
   ],
   "source": [
    "img_path = \"/home/sonlt373/Desktop/SoNg/Multi_cam_tracking/dev/multicam_tracking/data_wheel_daitu/stream_7/x9_frame_0.jpg\"\n",
    "folder_frame = img_path[:-14]\n",
    "name = img_path.split('/')[-1].split('.')[0]\n",
    "\n",
    "point_path = os.path.join(folder_frame, f\"{name}.txt\")\n",
    "\n",
    "# Read the image\n",
    "image = cv2.imread(img_path)\n",
    "height, width = image.shape[:2]\n",
    "\n",
    "# Read and denormalize the points\n",
    "denormalized_points = read_points(point_path, width, height)\n",
    "\n",
    "# Calculate the output size\n",
    "out_width, out_height = calculate_output_size(denormalized_points)\n",
    "\n",
    "print(\"width: \", out_width, \" height: \", out_height)\n",
    "\n",
    "# Define the destination points for the warp\n",
    "# dst_points = np.array([\n",
    "#     [out_width, out_height],  # Bottom right\n",
    "#     [out_width, 0],           # Top right\n",
    "#     [0, 0],                       # Top left\n",
    "#     [0, out_height]               # Bottom left\n",
    "# ], dtype=np.float32)\n",
    "\n",
    "dst_points = np.array([\n",
    "    [W - W7 - W6 - W5 - W4 - W3 - W2, out_height + H_padding],  # Bottom right\n",
    "    [W - W7 - W6 - W5 - W4 - W3 - W2, 0 + H_padding],           # Top right\n",
    "    [0  , 0 + H_padding],                       # Top left\n",
    "    [0   , out_height + H_padding]               # Bottom left\n",
    "], dtype=np.float32)\n",
    "\n",
    "print(\"denormalized_points: \", denormalized_points)\n",
    "\n",
    "# Calculate the homography matrix\n",
    "Homo, _ = cv2.findHomography(denormalized_points, dst_points)\n",
    "print(\"Homography Matrix: \", Homo)\n",
    "\n",
    "# Save the homography matrix\n",
    "matrix_array = np.array(Homo)\n",
    "np.savetxt(os.path.join(folder_frame, 'matrix_homo.txt'), matrix_array)\n",
    "\n",
    "# Warp the image\n",
    "# warped_image = cv2.warpPerspective(image, Homo, (int(out_width), int(out_height)))\n",
    "warped_image_7 = cv2.warpPerspective(image, Homo, (int(W), int(H + H_padding*2)))\n",
    "\n",
    "# Save and show the warped image\n",
    "output_path = os.path.join(folder_frame, \"warped_frame.jpg\")\n",
    "cv2.imwrite(output_path, warped_image_7)\n"
   ]
  },
  {
   "cell_type": "code",
   "execution_count": 119,
   "metadata": {},
   "outputs": [
    {
     "data": {
      "text/plain": [
       "True"
      ]
     },
     "execution_count": 119,
     "metadata": {},
     "output_type": "execute_result"
    }
   ],
   "source": [
    "overview_image = np.zeros((H + H_padding *2, W, 3), dtype=np.uint8)\n",
    "\n",
    "overview_image[:, :W1] = warped_image_7[:, :W1]\n",
    "overview_image[:, W1:W1 + W2] = warped_image_6[:, W1:W1 + W2]\n",
    "overview_image[:, W1 + W2:W1 + W2 + W3] = warped_image_5[:, W1 + W2:W1 + W2 + W3]\n",
    "overview_image[:, W1 + W2 + W3 : W1 + W2 + W3 + W4] = warped_image_4[:,  W1 + W2 + W3 : W1 + W2 + W3 + W4]\n",
    "overview_image[:, W1 + W2 + W3 + W4 : W1 + W2 + W3 + W4 + W5] = warped_image_3[:, W1 + W2 + W3 + W4 : W1 + W2 + W3 + W4 + W5]\n",
    "overview_image[:,  W1 + W2 + W3 + W4 + W5 : W1 + W2 + W3 + W4 + W5 + W6] = warped_image_2[:,  W1 + W2 + W3 + W4 + W5 : W1 + W2 + W3 + W4 + W5 + W6]\n",
    "overview_image[:, W1 + W2 + W3 + W4 + W5 + W6 : ] = warped_image_1[:, W1 + W2 + W3 + W4 + W5 + W6 : ]\n",
    "\n",
    "cv2.imwrite(\"/home/sonlt373/Desktop/SoNg/Multi_cam_tracking/dev/multicam_tracking/data_wheel_daitu/overview_image.jpg\", overview_image)\n",
    "\n",
    "\n",
    "\n",
    "\n"
   ]
  },
  {
   "cell_type": "code",
   "execution_count": null,
   "metadata": {},
   "outputs": [],
   "source": []
  }
 ],
 "metadata": {
  "kernelspec": {
   "display_name": "yolov8",
   "language": "python",
   "name": "python3"
  },
  "language_info": {
   "codemirror_mode": {
    "name": "ipython",
    "version": 3
   },
   "file_extension": ".py",
   "mimetype": "text/x-python",
   "name": "python",
   "nbconvert_exporter": "python",
   "pygments_lexer": "ipython3",
   "version": "3.8.13"
  }
 },
 "nbformat": 4,
 "nbformat_minor": 2
}
